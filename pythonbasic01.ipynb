{
  "nbformat": 4,
  "nbformat_minor": 0,
  "metadata": {
    "colab": {
      "name": "pythonbasic01.ipynb",
      "provenance": [],
      "authorship_tag": "ABX9TyPyQo2x3d9KWZKqBtUUiXnk",
      "include_colab_link": true
    },
    "kernelspec": {
      "name": "python3",
      "display_name": "Python 3"
    },
    "language_info": {
      "name": "python"
    }
  },
  "cells": [
    {
      "cell_type": "markdown",
      "metadata": {
        "id": "view-in-github",
        "colab_type": "text"
      },
      "source": [
        "<a href=\"https://colab.research.google.com/github/leekwanghun323/firstProject/blob/master/pythonbasic01.ipynb\" target=\"_parent\"><img src=\"https://colab.research.google.com/assets/colab-badge.svg\" alt=\"Open In Colab\"/></a>"
      ]
    },
    {
      "cell_type": "code",
      "execution_count": 2,
      "metadata": {
        "colab": {
          "base_uri": "https://localhost:8080/"
        },
        "id": "F1eRKDF8AEr9",
        "outputId": "bfa61b79-6e70-483d-bb7c-f4eb1995c15e"
      },
      "outputs": [
        {
          "output_type": "stream",
          "name": "stdout",
          "text": [
            "hello world\n"
          ]
        }
      ],
      "source": [
        "print(\"hello world\")"
      ]
    },
    {
      "cell_type": "code",
      "source": [
        "# 1 기본 - 특징\n",
        "\n",
        "# 인터프리터 - 파이썬, R\n",
        "# 컴파일러 - 자바 C, C++\n",
        "\n",
        "# 파이선은 영어와 문법이 아주 유사하여 사람이 이해하기 쉽다. \n",
        "# 많은 개발자가 참여하여 무료로 공유되는 코드가 많다.\n",
        "\n",
        "# 창시자 - 귀도반로썸(1956~) 네덜란드 구글 -> 드랍박스(클라우드 원조) -> 마이크로소프트\n",
        "\n",
        "# 특징 \n",
        "# 1. 사용이 쉽다.\n",
        "# 2. 강력하다.\n",
        "# 3. 객체지향언어\n",
        "# 4. 어디에서나 실행된다.\n",
        "# 5. 사용자가 많다.\n",
        "# 6. 무료이다. "
      ],
      "metadata": {
        "id": "mLxvqaVTS71N"
      },
      "execution_count": null,
      "outputs": []
    },
    {
      "cell_type": "code",
      "source": [
        "# 온라인 개발환경 \n",
        "# 코랩(파이썬 할때 좋음) - colab\n",
        "# 리플 - repl\n",
        "# 구름(한국에서 만듬)"
      ],
      "metadata": {
        "id": "O-HgJl_VU4SW"
      },
      "execution_count": null,
      "outputs": []
    },
    {
      "cell_type": "code",
      "source": [
        "# 오프라인 개발환경\n",
        "# FM - 파이썬 : 파이참\n",
        "# 강사추천 - Anaconda.com : 파이썬 + jupyter notebook 설치됨"
      ],
      "metadata": {
        "id": "hpHJ7nhbVp1j"
      },
      "execution_count": null,
      "outputs": []
    },
    {
      "cell_type": "code",
      "source": [
        "# 개발환경\n",
        "\n",
        "print(\"hello world\")"
      ],
      "metadata": {
        "colab": {
          "base_uri": "https://localhost:8080/"
        },
        "id": "zNruBGDqcWbE",
        "outputId": "47f62057-4d3d-4143-8aaf-34fbb3ce1d6d"
      },
      "execution_count": 4,
      "outputs": [
        {
          "output_type": "stream",
          "name": "stdout",
          "text": [
            "hello world\n"
          ]
        }
      ]
    }
  ]
}